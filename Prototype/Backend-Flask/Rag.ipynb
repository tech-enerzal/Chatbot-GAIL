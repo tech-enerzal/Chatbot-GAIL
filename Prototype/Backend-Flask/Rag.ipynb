{
 "cells": [
  {
   "cell_type": "code",
   "execution_count": 4,
   "metadata": {},
   "outputs": [
    {
     "name": "stderr",
     "output_type": "stream",
     "text": [
      "2024-09-26 19:44:00,392 - INFO - Use pytorch device_name: cuda\n",
      "2024-09-26 19:44:00,392 - INFO - Load pretrained SentenceTransformer: all-MiniLM-L6-v2\n",
      "2024-09-26 19:44:02,653 - INFO - Downloading rank-T5-flan...\n",
      "rank-T5-flan.zip: 100%|██████████| 73.7M/73.7M [00:06<00:00, 11.7MiB/s]\n"
     ]
    }
   ],
   "source": [
    "import json\n",
    "import logging\n",
    "import re\n",
    "import warnings\n",
    "\n",
    "# FAISS imports\n",
    "from langchain.embeddings import SentenceTransformerEmbeddings\n",
    "from langchain.vectorstores import FAISS\n",
    "from langchain.schema import Document\n",
    "\n",
    "# Ranker (assuming you have a Ranker class)\n",
    "from flashrank import Ranker, RerankRequest\n",
    "\n",
    "# Pseudocode for model loading Replaced with Ollama calls \n",
    "\n",
    "# Suppress warnings\n",
    "warnings.filterwarnings(\"ignore\")\n",
    "\n",
    "# Initialize logging\n",
    "logging.basicConfig(level=logging.INFO, format='%(asctime)s - %(levelname)s - %(message)s')\n",
    "\n",
    "# Initialize embedding function\n",
    "embedding_function = SentenceTransformerEmbeddings(model_name=\"all-MiniLM-L6-v2\")\n",
    "\n",
    "\n",
    "# Load FAISS vector stores\n",
    "faiss_Full_HR = FAISS.load_local(\"Database/HR/Vector/Full_HR\", embedding_function,allow_dangerous_deserialization=True)\n",
    "faiss_QA_HR = FAISS.load_local(\"Database/HR/Vector/QA_HR\", embedding_function,allow_dangerous_deserialization=True)\n",
    "\n",
    "# Initialize the ranker\n",
    "ranker = Ranker(model_name=\"rank-T5-flan\", cache_dir=\"/Temp\")\n"
   ]
  }
 ],
 "metadata": {
  "kernelspec": {
   "display_name": "base",
   "language": "python",
   "name": "python3"
  },
  "language_info": {
   "codemirror_mode": {
    "name": "ipython",
    "version": 3
   },
   "file_extension": ".py",
   "mimetype": "text/x-python",
   "name": "python",
   "nbconvert_exporter": "python",
   "pygments_lexer": "ipython3",
   "version": "3.11.5"
  }
 },
 "nbformat": 4,
 "nbformat_minor": 2
}
